{
  "cells": [
    {
      "cell_type": "markdown",
      "metadata": {
        "id": "AwRGoqx-b8do"
      },
      "source": [
        "### Import libraries"
      ]
    },
    {
      "cell_type": "code",
      "execution_count": null,
      "metadata": {
        "id": "4EKUu-cEb9DM"
      },
      "outputs": [],
      "source": [
        "# Fix randomness and hide warnings\n",
        "seed = 42\n",
        "\n",
        "import os\n",
        "os.environ['TF_CPP_MIN_LOG_LEVEL'] = '3'\n",
        "os.environ['PYTHONHASHSEED'] = str(seed)\n",
        "os.environ['MPLCONFIGDIR'] = os.getcwd()+'/configs/'\n",
        "\n",
        "import warnings\n",
        "warnings.simplefilter(action='ignore', category=FutureWarning)\n",
        "warnings.simplefilter(action='ignore', category=Warning)\n",
        "\n",
        "import numpy as np\n",
        "np.random.seed(seed)\n",
        "\n",
        "import logging\n",
        "\n",
        "import random\n",
        "random.seed(seed)"
      ]
    },
    {
      "cell_type": "code",
      "execution_count": null,
      "metadata": {
        "colab": {
          "base_uri": "https://localhost:8080/"
        },
        "id": "6C0-n7ykb_3Y",
        "outputId": "9dbdc3f3-818b-450d-86c0-92c29b15d597"
      },
      "outputs": [
        {
          "name": "stdout",
          "output_type": "stream",
          "text": [
            "2.15.0\n"
          ]
        }
      ],
      "source": [
        "# Import tensorflow\n",
        "import tensorflow as tf\n",
        "from tensorflow import keras as tfk\n",
        "from tensorflow.keras import layers as tfkl\n",
        "tf.autograph.set_verbosity(0)\n",
        "tf.get_logger().setLevel(logging.ERROR)\n",
        "tf.compat.v1.logging.set_verbosity(tf.compat.v1.logging.ERROR)\n",
        "tf.random.set_seed(seed)\n",
        "tf.compat.v1.set_random_seed(seed)\n",
        "print(tf.__version__)"
      ]
    },
    {
      "cell_type": "code",
      "execution_count": null,
      "metadata": {
        "id": "R2qCuo7BcCKV"
      },
      "outputs": [],
      "source": [
        "import pandas as pd\n",
        "import seaborn as sns\n",
        "from datetime import datetime\n",
        "import matplotlib.pyplot as plt\n",
        "plt.rc('font', size=16)\n",
        "from sklearn.preprocessing import MinMaxScaler\n",
        "from sklearn.preprocessing import OneHotEncoder"
      ]
    },
    {
      "cell_type": "markdown",
      "metadata": {
        "id": "5GoqbMp7cDj-"
      },
      "source": [
        "### Load and visualize data\n",
        "\n",
        "*   categories.npy\n",
        "*   training_data.npy\n",
        "*   valid_periods.npy"
      ]
    },
    {
      "cell_type": "code",
      "execution_count": null,
      "metadata": {
        "colab": {
          "base_uri": "https://localhost:8080/"
        },
        "id": "wdWaAn9ScEI4",
        "outputId": "8d962759-a255-4eb3-dfae-b99d354643d4"
      },
      "outputs": [
        {
          "name": "stdout",
          "output_type": "stream",
          "text": [
            "categories shape: (48000,) , Type: <U1\n",
            "training_data shape: (48000, 2776) , Type: float64\n",
            "valid_periods shape: (48000, 2) , Type: int64\n"
          ]
        }
      ],
      "source": [
        "categories = np.load('categories.npy')\n",
        "training_data = np.load('training_data.npy')\n",
        "valid_periods = np.load('valid_periods.npy')\n",
        "print(f\"categories shape: {categories.shape} , Type: {categories.dtype}\")\n",
        "print(f\"training_data shape: {training_data.shape} , Type: {training_data.dtype}\")\n",
        "print(f\"valid_periods shape: {valid_periods.shape} , Type: {valid_periods.dtype}\")"
      ]
    },
    {
      "cell_type": "code",
      "execution_count": null,
      "metadata": {
        "colab": {
          "base_uri": "https://localhost:8080/"
        },
        "id": "wMAX1pJlKjN9",
        "outputId": "bd4f0517-68b8-41b3-e1d6-ad55e73fc8dc"
      },
      "outputs": [
        {
          "data": {
            "text/plain": [
              "array([[0.        , 0.        , 0.        , ..., 0.60277778, 0.36759259,\n",
              "        0.33148148],\n",
              "       [0.        , 0.        , 0.        , ..., 0.6       , 0.46      ,\n",
              "        0.396     ],\n",
              "       [0.        , 0.        , 0.        , ..., 0.96048126, 0.94650625,\n",
              "        0.97714021],\n",
              "       ...,\n",
              "       [0.        , 0.        , 0.        , ..., 0.52631579, 0.58223684,\n",
              "        0.55263158],\n",
              "       [0.        , 0.        , 0.        , ..., 0.44559585, 0.58549223,\n",
              "        0.40414508],\n",
              "       [0.        , 0.        , 0.        , ..., 0.54268293, 0.6097561 ,\n",
              "        0.59146341]])"
            ]
          },
          "execution_count": 6,
          "metadata": {},
          "output_type": "execute_result"
        }
      ],
      "source": [
        "training_data"
      ]
    },
    {
      "cell_type": "markdown",
      "metadata": {
        "id": "xh57v11fLmh_"
      },
      "source": [
        "### Split data"
      ]
    },
    {
      "cell_type": "markdown",
      "metadata": {
        "id": "2sGjSTAsRr6i"
      },
      "source": [
        "*   categories.npy\n",
        "*   training_data.npy\n",
        "*   valid_periods.npy"
      ]
    },
    {
      "cell_type": "code",
      "execution_count": null,
      "metadata": {
        "id": "BkJI9JkmNim4"
      },
      "outputs": [],
      "source": [
        "ohencoder = OneHotEncoder(sparse=False)\n",
        "categories = ohencoder.fit_transform(categories.reshape(-1,1))"
      ]
    },
    {
      "cell_type": "markdown",
      "metadata": {
        "id": "E7Mig0LId7Rr"
      },
      "source": [
        "#### Split"
      ]
    },
    {
      "cell_type": "code",
      "execution_count": null,
      "metadata": {
        "colab": {
          "base_uri": "https://localhost:8080/"
        },
        "id": "5tNIq2hRT0fU",
        "outputId": "8e81540a-b5ce-4be6-c3a0-d662e801c3c4"
      },
      "outputs": [
        {
          "data": {
            "text/plain": [
              "((43200, 2776), (4800, 2776))"
            ]
          },
          "execution_count": 8,
          "metadata": {},
          "output_type": "execute_result"
        }
      ],
      "source": [
        "#np.random.shuffle(training_data)\n",
        "train_split = np.random.choice(len(training_data), int(len(training_data) * 0.9), replace=False)\n",
        "test_split = [x for x in range(len(training_data)) if x not in train_split]\n",
        "training, test = training_data[train_split,:], training_data[test_split,:]\n",
        "training_cats, test_cats = categories[train_split, :], categories[test_split, :]\n",
        "training_valid_p, test_valid_p = valid_periods[train_split, :], valid_periods[test_split, :]\n",
        "\n",
        "\n",
        "training.shape, test.shape"
      ]
    },
    {
      "cell_type": "code",
      "execution_count": null,
      "metadata": {
        "id": "aElG_yhSN4pw"
      },
      "outputs": [],
      "source": [
        "# given the categories, split into training and validation data with a stratified split of 90/10\n",
        "from sklearn.model_selection import train_test_split\n",
        "\n",
        "training, test, training_valid_p, test_valid_p, training_cats, test_cats = train_test_split(training_data, valid_periods, categories, test_size=0.1, stratify=categories)\n",
        "training, val, training_valid_p, val_valid_p, training_cats, val_cats = train_test_split(training, training_valid_p, training_cats, test_size=0.1, stratify=training_cats)"
      ]
    },
    {
      "cell_type": "code",
      "execution_count": null,
      "metadata": {
        "colab": {
          "base_uri": "https://localhost:8080/"
        },
        "id": "gysMoBMY1pPx",
        "outputId": "83107221-f93f-4068-beff-deacab2fe551"
      },
      "outputs": [
        {
          "data": {
            "text/plain": [
              "((38880, 2776), (38880, 2), (38880, 6))"
            ]
          },
          "execution_count": 10,
          "metadata": {},
          "output_type": "execute_result"
        }
      ],
      "source": [
        "training.shape, training_valid_p.shape, training_cats.shape"
      ]
    },
    {
      "cell_type": "code",
      "execution_count": null,
      "metadata": {
        "id": "oN_FwqfeKLK_"
      },
      "outputs": [],
      "source": [
        "import numpy as np\n",
        "\n",
        "def generate_pairs(categories, training_data, valid_periods, window=200, stride=4, telescope=18):\n",
        "    pairs = []\n",
        "\n",
        "    for i, category in enumerate(categories):\n",
        "        valid_period = valid_periods[i]\n",
        "        data = training_data[i]\n",
        "        data[:valid_period[0]] = -1.0\n",
        "\n",
        "        for j in range(len(data) - window + 1, valid_period[0], -stride):\n",
        "            output_sequence = data[j - telescope : (j + 1)]\n",
        "            input_sequence = data[j - telescope - window : j - telescope]\n",
        "\n",
        "            # Check if the input sequence has at least one valid value\n",
        "            if np.any(input_sequence >= 0):  # Assuming padded values are represented by negative values\n",
        "                pairs.append([input_sequence, output_sequence, category])\n",
        "            else:\n",
        "                break\n",
        "\n",
        "    return pairs\n",
        "\n",
        "#pairs = generate_pairs(categories, training_data, valid_periods)"
      ]
    },
    {
      "cell_type": "code",
      "execution_count": null,
      "metadata": {
        "id": "1_7GtuahTWgf"
      },
      "outputs": [],
      "source": [
        "# Define Transformer hyperparameters\n",
        "window = 200\n",
        "stride = 4\n",
        "telescope = 18\n",
        "latent_dim = 1600\n",
        "num_heads = 4"
      ]
    },
    {
      "cell_type": "code",
      "execution_count": null,
      "metadata": {
        "colab": {
          "base_uri": "https://localhost:8080/"
        },
        "id": "QjdMvj39TiOi",
        "outputId": "2c4dfa85-5507-4d3d-920b-5c89d1f8008c"
      },
      "outputs": [
        {
          "name": "stdout",
          "output_type": "stream",
          "text": [
            "38880\n",
            "38880\n",
            "38880\n"
          ]
        }
      ],
      "source": [
        "def to_sequences(data, cats, validp):\n",
        "    x = []\n",
        "    cat = []\n",
        "    y = []\n",
        "    print(len(training_cats))\n",
        "\n",
        "    for i, category in enumerate(cats):\n",
        "        valid_period = validp[i]\n",
        "        data_p = data[i]\n",
        "        data_p[:valid_period[0]] = -1.0\n",
        "\n",
        "        for j in range(len(data_p) - window + 1, valid_period[0], -stride):\n",
        "            output_sequence = data_p[j - telescope : j]\n",
        "            input_sequence = data_p[j - telescope - window : j - telescope]\n",
        "            # Check if the input sequence has at least one valid value\n",
        "            if np.any(input_sequence >= 0):  # Assuming padded values are represented by negative values\n",
        "                x.append(input_sequence)\n",
        "                cat.append(category)\n",
        "                y.append(output_sequence)\n",
        "            else:\n",
        "                break\n",
        "\n",
        "    return np.expand_dims(np.array(x), axis=-1), np.array(cat), np.expand_dims(np.array(y), axis=-1)\n",
        "\n",
        "\n",
        "\n",
        "x_train, x_train_cat, y_train = to_sequences(training, training_cats, training_valid_p)\n",
        "x_val, x_val_cat, y_val = to_sequences(val, val_cats, val_valid_p)\n",
        "x_test, x_test_cat, y_test = to_sequences(test, test_cats, test_valid_p)"
      ]
    },
    {
      "cell_type": "code",
      "execution_count": null,
      "metadata": {
        "colab": {
          "base_uri": "https://localhost:8080/"
        },
        "id": "EzxPh7M8aTmH",
        "outputId": "06e6d841-e7ac-4ca6-903f-362325c1aa1b"
      },
      "outputs": [
        {
          "data": {
            "text/plain": [
              "(200, 1)"
            ]
          },
          "execution_count": 15,
          "metadata": {},
          "output_type": "execute_result"
        }
      ],
      "source": [
        "input_shape = x_train.shape[1:]\n",
        "input_shape"
      ]
    },
    {
      "cell_type": "markdown",
      "metadata": {
        "id": "W5Ol3HaFd9af"
      },
      "source": [
        "#### Model\n",
        "\n",
        "This notebook contains our attempt at a encoder-only Transformer. This approach follow the one made available by Keras-IO at https://github.com/keras-team/keras-io/blob/master/examples/timeseries/timeseries_classification_transformer.py .This version leverages category information by concatenating it to the output before the final Feed-forward layer."
      ]
    },
    {
      "cell_type": "code",
      "execution_count": null,
      "metadata": {
        "colab": {
          "base_uri": "https://localhost:8080/",
          "height": 70
        },
        "id": "D3--YKXYeUTk",
        "outputId": "4ff0a711-56bc-428c-a31a-cdabfba13982"
      },
      "outputs": [
        {
          "data": {
            "application/vnd.google.colaboratory.intrinsic+json": {
              "type": "string"
            },
            "text/plain": [
              "'class PositionEmbedding(tfkl.Layer):\\n    def __init__(self, window, **kwargs):\\n        super().__init__(**kwargs)\\n        self.pos_emb = tfkl.Embedding(input_dim=window, output_dim=window)\\n\\n    def call(self, x):\\n        maxlen = tf.shape(x)[-1]\\n        positions = tf.range(start=0, limit=maxlen, delta=1)\\n        positions = self.pos_emb(positions)\\n        return x + positions'"
            ]
          },
          "execution_count": 16,
          "metadata": {},
          "output_type": "execute_result"
        }
      ],
      "source": [
        "\"\"\"class PositionEmbedding(tfkl.Layer):\n",
        "    def __init__(self, window, **kwargs):\n",
        "        super().__init__(**kwargs)\n",
        "        self.pos_emb = tfkl.Embedding(input_dim=window, output_dim=window)\n",
        "\n",
        "    def call(self, x):\n",
        "        maxlen = tf.shape(x)[-1]\n",
        "        positions = tf.range(start=0, limit=maxlen, delta=1)\n",
        "        positions = self.pos_emb(positions)\n",
        "        return x + positions\"\"\""
      ]
    },
    {
      "cell_type": "code",
      "execution_count": null,
      "metadata": {
        "id": "B0I8Agct5sad"
      },
      "outputs": [],
      "source": [
        "def create_padding_mask(inputs):\n",
        "    mask = tf.math.equal(inputs, -1)  # Check for padding value (-1)\n",
        "    mask = tf.cast(mask, dtype=tf.float32)  # Convert True/False to 1.0/0.0\n",
        "    mask = tf.expand_dims(mask, axis=1)  # Add extra dimension for multi-head attention\n",
        "    return mask"
      ]
    },
    {
      "cell_type": "code",
      "execution_count": null,
      "metadata": {
        "id": "heAxbOBYKith"
      },
      "outputs": [],
      "source": [
        "def transformer_encoder(inputs, head_size, num_heads, ff_dim, dropout=0):\n",
        "    # Generate padding mask\n",
        "    padding_mask = create_padding_mask(inputs)\n",
        "\n",
        "    # Attention and Normalization\n",
        "    x = tfkl.MultiHeadAttention(\n",
        "        key_dim=head_size, num_heads=num_heads, dropout=dropout\n",
        "    )(inputs, inputs, attention_mask=padding_mask)\n",
        "    x = tfkl.Dropout(dropout)(x)\n",
        "    x = tfkl.LayerNormalization(epsilon=1e-6)(x)\n",
        "    res = x + inputs\n",
        "\n",
        "    # Feed Forward Part\n",
        "    x = tfkl.Conv1D(filters=ff_dim, kernel_size=1, activation=\"relu\")(res)\n",
        "    x = tfkl.Dropout(dropout)(x)\n",
        "    x = tfkl.Conv1D(filters=inputs.shape[-1], kernel_size=1)(x)\n",
        "    x = tfkl.LayerNormalization(epsilon=1e-6)(x)\n",
        "    return x + res"
      ]
    },
    {
      "cell_type": "code",
      "execution_count": null,
      "metadata": {
        "id": "81t2VP2MO6-s"
      },
      "outputs": [],
      "source": [
        "def build_model(\n",
        "    input_shape,\n",
        "    cat_shape,\n",
        "    head_size,\n",
        "    num_heads,\n",
        "    ff_dim,\n",
        "    num_transformer_blocks,\n",
        "    mlp_units,\n",
        "    dropout=0,\n",
        "    mlp_dropout=0,\n",
        "):\n",
        "    inputs = tf.keras.Input(shape=input_shape)\n",
        "    cat = tf.keras.Input(shape=cat_shape)\n",
        "\n",
        "    x = inputs\n",
        "    for _ in range(num_transformer_blocks):\n",
        "        x = transformer_encoder(x, head_size, num_heads, ff_dim, dropout)\n",
        "\n",
        "    x = tfkl.GlobalAveragePooling1D(data_format=\"channels_first\")(x)\n",
        "\n",
        "    # Concatenate category information with sequence embeddings\n",
        "    x = tfkl.Concatenate(axis=1)([x, cat])\n",
        "\n",
        "    for dim in mlp_units:\n",
        "        x = tfkl.Dense(dim, activation=\"relu\")(x)\n",
        "        x = tfkl.Dropout(mlp_dropout)(x)\n",
        "    outputs = tfkl.Dense(telescope, activation=\"linear\")(x)\n",
        "    return tf.keras.Model([inputs, cat], outputs)"
      ]
    },
    {
      "cell_type": "code",
      "execution_count": null,
      "metadata": {
        "id": "-OMBS3YEO_Gf"
      },
      "outputs": [],
      "source": [
        "model = build_model(\n",
        "    input_shape,\n",
        "    head_size=256,\n",
        "    num_heads=4,\n",
        "    ff_dim=4,\n",
        "    num_transformer_blocks=4,\n",
        "    mlp_units=[128, 32],\n",
        "    mlp_dropout=0.4,\n",
        "    dropout=0.25,\n",
        ")\n",
        "\n",
        "model.compile(\n",
        "    loss=\"mse\",\n",
        "    optimizer=\"adam\",\n",
        "    metrics=[\"mse\", \"mae\"],\n",
        ")\n",
        "#model.summary()"
      ]
    },
    {
      "cell_type": "code",
      "execution_count": null,
      "metadata": {
        "colab": {
          "base_uri": "https://localhost:8080/"
        },
        "id": "lyRqnoz6V_O9",
        "outputId": "0663927f-bc73-4276-e538-f61ed87b9a9c"
      },
      "outputs": [
        {
          "name": "stdout",
          "output_type": "stream",
          "text": [
            "Epoch 1/10\n",
            "3474/3474 [==============================] - 1318s 375ms/step - loss: 0.0132 - mse: 0.0132 - mae: 0.0782 - val_loss: 0.0092 - val_mse: 0.0092 - val_mae: 0.0631 - lr: 0.0010\n",
            "Epoch 2/10\n",
            "3474/3474 [==============================] - 1299s 374ms/step - loss: 0.0099 - mse: 0.0099 - mae: 0.0680 - val_loss: 0.0096 - val_mse: 0.0096 - val_mae: 0.0647 - lr: 0.0010\n",
            "Epoch 3/10\n",
            "3474/3474 [==============================] - 1269s 365ms/step - loss: 0.0094 - mse: 0.0094 - mae: 0.0659 - val_loss: 0.0082 - val_mse: 0.0082 - val_mae: 0.0590 - lr: 0.0010\n",
            "Epoch 4/10\n",
            "3474/3474 [==============================] - 1268s 365ms/step - loss: 0.0092 - mse: 0.0092 - mae: 0.0648 - val_loss: 0.0082 - val_mse: 0.0082 - val_mae: 0.0586 - lr: 0.0010\n",
            "Epoch 5/10\n",
            "3474/3474 [==============================] - 1300s 374ms/step - loss: 0.0091 - mse: 0.0091 - mae: 0.0642 - val_loss: 0.0082 - val_mse: 0.0082 - val_mae: 0.0582 - lr: 0.0010\n",
            "Epoch 6/10\n",
            "3442/3474 [============================>.] - ETA: 11s - loss: 0.0087 - mse: 0.0087 - mae: 0.0619"
          ]
        }
      ],
      "source": [
        "EPOCHS = 10\n",
        "\n",
        "history = model.fit(\n",
        "    x_train,\n",
        "    y_train,\n",
        "    batch_size=128,\n",
        "    epochs=EPOCHS,\n",
        "    validation_data = (x_val, y_val),\n",
        "    callbacks = [\n",
        "        tfk.callbacks.EarlyStopping(monitor='val_loss', mode='min', patience=3, restore_best_weights=True),\n",
        "        tfk.callbacks.ReduceLROnPlateau(monitor='val_loss', mode='min', patience=2, factor=0.1, min_lr=1e-5)\n",
        "    ]\n",
        ")"
      ]
    },
    {
      "cell_type": "code",
      "execution_count": null,
      "metadata": {
        "id": "hJBn7M9u0BPm"
      },
      "outputs": [],
      "source": [
        "model.save('encoder_w200')"
      ]
    },
    {
      "cell_type": "code",
      "execution_count": null,
      "metadata": {
        "id": "6QtcPbjRqIkA"
      },
      "outputs": [],
      "source": [
        "best_epoch = np.argmin(history['val_loss'])\n",
        "plt.figure(figsize=(17,4))\n",
        "plt.plot(history['loss'], label='Training loss', alpha=.8, color='#ff7f0e')\n",
        "plt.plot(history['val_loss'], label='Validation loss', alpha=.9, color='#5a9aa5')\n",
        "plt.axvline(x=best_epoch, label='Best epoch', alpha=.3, ls='--', color='#5a9aa5')\n",
        "plt.title('Mean Squared Error')\n",
        "plt.legend()\n",
        "plt.grid(alpha=.3)\n",
        "plt.show()\n",
        "\n",
        "plt.figure(figsize=(18,3))\n",
        "plt.plot(history['lr'], label='Learning Rate', alpha=.8, color='#ff7f0e')\n",
        "plt.axvline(x=best_epoch, label='Best epoch', alpha=.3, ls='--', color='#5a9aa5')\n",
        "plt.legend()\n",
        "plt.grid(alpha=.3)\n",
        "plt.show()"
      ]
    },
    {
      "cell_type": "code",
      "execution_count": null,
      "metadata": {
        "colab": {
          "base_uri": "https://localhost:8080/"
        },
        "id": "Xj3Sq1u8tQ0S",
        "outputId": "2226f0fb-8526-49ad-d2ee-6182d1a072c8"
      },
      "outputs": [
        {
          "name": "stdout",
          "output_type": "stream",
          "text": [
            "Predictions shape: (85375, 9, 1)\n",
            "Mean Squared Error: 0.008056769147515297\n",
            "Mean Absolute Error: 0.0557771772146225\n"
          ]
        }
      ],
      "source": [
        "# Predict the test set using the model\n",
        "predictions = model.predict(X_test, verbose=0)\n",
        "\n",
        "# Print the shape of the predictions\n",
        "print(f\"Predictions shape: {predictions.shape}\")\n",
        "\n",
        "# Calculate and print Mean Squared Error (MSE)\n",
        "mean_squared_error = tfk.metrics.mean_squared_error(y_test.flatten(), predictions.flatten()).numpy()\n",
        "print(f\"Mean Squared Error: {mean_squared_error}\")\n",
        "\n",
        "# Calculate and print Mean Absolute Error (MAE)\n",
        "mean_absolute_error = tfk.metrics.mean_absolute_error(y_test.flatten(), predictions.flatten()).numpy()\n",
        "print(f\"Mean Absolute Error: {mean_absolute_error}\")"
      ]
    },
    {
      "cell_type": "code",
      "execution_count": null,
      "metadata": {
        "id": "32F5zloHyG8x"
      },
      "outputs": [],
      "source": [
        "def inspect_univariate_prediction(X, y, pred, telescope, idx=None):\n",
        "    if idx is None:\n",
        "        idx = np.random.randint(0, len(X))\n",
        "\n",
        "    pred = np.concatenate([np.expand_dims(X[:, -1], axis=1), pred.squeeze()], axis=1)\n",
        "    y = np.concatenate([np.expand_dims(X[:, -1], axis=1), y.squeeze()], axis=1)\n",
        "\n",
        "    fig, ax = plt.subplots(figsize=(17, 5))\n",
        "    ax.plot(np.arange(len(X[0])), X[idx])\n",
        "    ax.plot(np.arange(len(X[0]) - 1, len(X[0]) + telescope), y[idx], color='orange')\n",
        "    ax.plot(np.arange(len(X[0]) - 1, len(X[0]) + telescope), pred[idx], color='green')\n",
        "    ax.set_title('Prediction vs Actual')\n",
        "    ax.set_ylim(0, 1)\n",
        "    plt.show()\n"
      ]
    },
    {
      "cell_type": "code",
      "execution_count": null,
      "metadata": {
        "colab": {
          "base_uri": "https://localhost:8080/"
        },
        "id": "rn_BPb2KvN4r",
        "outputId": "efec4d11-dbaf-4569-db16-20e8e1098206"
      },
      "outputs": [
        {
          "data": {
            "text/plain": [
              "((85375, 40), (85375, 9), (85375, 9, 1))"
            ]
          },
          "execution_count": 41,
          "metadata": {},
          "output_type": "execute_result"
        }
      ],
      "source": [
        "X_test.shape, y_test.shape, predictions.shape"
      ]
    },
    {
      "cell_type": "code",
      "execution_count": null,
      "metadata": {
        "colab": {
          "base_uri": "https://localhost:8080/",
          "height": 478
        },
        "id": "pGAeZPa6tUjT",
        "outputId": "5ac593c8-e9ec-42a9-a2eb-752dcaa8f028"
      },
      "outputs": [
        {
          "data": {
            "image/png": "[encoded data removed]",
            "text/plain": [
              "<Figure size 1700x500 with 1 Axes>"
            ]
          },
          "metadata": {},
          "output_type": "display_data"
        }
      ],
      "source": [
        "inspect_univariate_prediction(X_test, y_test, predictions, telescope)"
      ]
    }
  ],
  "metadata": {
    "accelerator": "GPU",
    "colab": {
      "gpuType": "T4",
      "provenance": []
    },
    "kernelspec": {
      "display_name": "Python 3",
      "name": "python3"
    },
    "language_info": {
      "codemirror_mode": {
        "name": "ipython",
        "version": 3
      },
      "file_extension": ".py",
      "mimetype": "text/x-python",
      "name": "python",
      "nbconvert_exporter": "python",
      "pygments_lexer": "ipython3",
      "version": "3.11.0"
    }
  },
  "nbformat": 4,
  "nbformat_minor": 0
}
